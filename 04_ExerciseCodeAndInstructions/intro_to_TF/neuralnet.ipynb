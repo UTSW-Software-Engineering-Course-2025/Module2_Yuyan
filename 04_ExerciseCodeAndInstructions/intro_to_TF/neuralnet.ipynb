{
 "cells": [
  {
   "cell_type": "code",
   "execution_count": 1,
   "id": "c287f09d",
   "metadata": {},
   "outputs": [
    {
     "name": "stderr",
     "output_type": "stream",
     "text": [
      "2025-05-29 18:29:15.688765: E external/local_xla/xla/stream_executor/cuda/cuda_fft.cc:467] Unable to register cuFFT factory: Attempting to register factory for plugin cuFFT when one has already been registered\n",
      "WARNING: All log messages before absl::InitializeLog() is called are written to STDERR\n",
      "E0000 00:00:1748561355.712830   42560 cuda_dnn.cc:8579] Unable to register cuDNN factory: Attempting to register factory for plugin cuDNN when one has already been registered\n",
      "E0000 00:00:1748561355.720107   42560 cuda_blas.cc:1407] Unable to register cuBLAS factory: Attempting to register factory for plugin cuBLAS when one has already been registered\n",
      "W0000 00:00:1748561355.738370   42560 computation_placer.cc:177] computation placer already registered. Please check linkage and avoid linking the same target more than once.\n",
      "W0000 00:00:1748561355.738392   42560 computation_placer.cc:177] computation placer already registered. Please check linkage and avoid linking the same target more than once.\n",
      "W0000 00:00:1748561355.738394   42560 computation_placer.cc:177] computation placer already registered. Please check linkage and avoid linking the same target more than once.\n",
      "W0000 00:00:1748561355.738396   42560 computation_placer.cc:177] computation placer already registered. Please check linkage and avoid linking the same target more than once.\n"
     ]
    }
   ],
   "source": [
    "import os\n",
    "import tensorflow as tf\n",
    "from tensorflow import keras\n",
    "from tensorflow.keras import layers\n",
    "from tensorflow.keras.datasets import mnist"
   ]
  },
  {
   "cell_type": "code",
   "execution_count": 2,
   "id": "a3afceea-1367-4ed7-8285-9ee56db5a0c3",
   "metadata": {},
   "outputs": [
    {
     "name": "stdout",
     "output_type": "stream",
     "text": [
      "1 Physical GPUs, 1 Logical GPU\n"
     ]
    },
    {
     "name": "stderr",
     "output_type": "stream",
     "text": [
      "I0000 00:00:1748561360.146267   42560 gpu_device.cc:2019] Created device /job:localhost/replica:0/task:0/device:GPU:0 with 15494 MB memory:  -> device: 0, name: Tesla P100-PCIE-16GB, pci bus id: 0000:02:00.0, compute capability: 6.0\n"
     ]
    }
   ],
   "source": [
    "gpus = tf.config.list_physical_devices('GPU')\n",
    "if gpus:\n",
    "  # Restrict TensorFlow to only use my GPU\n",
    "  try:\n",
    "    tf.config.set_visible_devices(gpus[0], 'GPU')\n",
    "    logical_gpus = tf.config.list_logical_devices('GPU')\n",
    "    print(len(gpus), \"Physical GPUs,\", len(logical_gpus), \"Logical GPU\")\n",
    "  except RuntimeError as e:\n",
    "    # Visible devices must be set before GPUs have been initialized\n",
    "    print(e)"
   ]
  },
  {
   "cell_type": "code",
   "execution_count": 3,
   "id": "adc265b7",
   "metadata": {},
   "outputs": [],
   "source": [
    "# load and prepare data for training\n",
    "(x_train, y_train), (x_test, y_test) = mnist.load_data()\n",
    "x_train = x_train.reshape(-1, 28 * 28).astype(\"float32\") / 255.0\n",
    "x_test = x_test.reshape(-1, 28 * 28).astype(\"float32\") / 255.0"
   ]
  },
  {
   "attachments": {},
   "cell_type": "markdown",
   "id": "350fbab3",
   "metadata": {},
   "source": [
    "## Dense Feed Forward Neural Networks (DFNNs)  also known as multi-layer perceptrons(MLPs)\n",
    "* well suited for inferencing from tabular data"
   ]
  },
  {
   "cell_type": "code",
   "execution_count": 4,
   "id": "78f8685a-560b-415a-83e9-7ae9c4af9fac",
   "metadata": {},
   "outputs": [
    {
     "name": "stdout",
     "output_type": "stream",
     "text": [
      "(60000, 784) float32\n",
      "(60000,) uint8\n"
     ]
    }
   ],
   "source": [
    "print(x_train.shape, x_train.dtype)\n",
    "print(y_train.shape, y_train.dtype)"
   ]
  },
  {
   "attachments": {},
   "cell_type": "markdown",
   "id": "db8118db",
   "metadata": {},
   "source": [
    "### Construct DFNN model using Sequential API  \n",
    "* simple interface\n",
    "* limited functionality"
   ]
  },
  {
   "cell_type": "code",
   "execution_count": 5,
   "id": "c343812c",
   "metadata": {},
   "outputs": [],
   "source": [
    "# Sequential API (Very convenient, not very flexible)\n",
    "modelDFNN1 = keras.Sequential(\n",
    "    [\n",
    "        keras.Input(shape=(28 * 28)),\n",
    "        layers.Dense(512, activation=\"relu\"),\n",
    "        layers.Dense(256, activation=\"relu\"),\n",
    "        layers.Dense(10),\n",
    "    ]\n",
    ")\n",
    "\n",
    "modelDFNN1 = keras.Sequential()\n",
    "modelDFNN1.add(keras.Input(shape=(784)))\n",
    "modelDFNN1.add(layers.Dense(512, activation=\"relu\"))\n",
    "modelDFNN1.add(layers.Dense(256, activation=\"relu\", name=\"my_layer\"))\n",
    "modelDFNN1.add(layers.Dense(10))"
   ]
  },
  {
   "cell_type": "code",
   "execution_count": 6,
   "id": "4d6c1f9c",
   "metadata": {},
   "outputs": [],
   "source": [
    "# ToDo #1: List what objects the modelDFNN1 is comprised of (built from)"
   ]
  },
  {
   "cell_type": "code",
   "execution_count": 7,
   "id": "fec1d9d4-4fd1-4e27-9b40-e78abdb171b0",
   "metadata": {},
   "outputs": [
    {
     "data": {
      "text/plain": [
       "[<tf_keras.src.layers.core.dense.Dense at 0x2aac19a3c7a0>,\n",
       " <tf_keras.src.layers.core.dense.Dense at 0x2aac1a2aea80>,\n",
       " <tf_keras.src.layers.core.dense.Dense at 0x2aac1a2d3530>]"
      ]
     },
     "execution_count": 7,
     "metadata": {},
     "output_type": "execute_result"
    }
   ],
   "source": [
    "modelDFNN1.layers\n",
    "# modelDFNN1 is comprised of:\n",
    "# 1. Input layer: shape=(784,) — this is implicitly defined\n",
    "# 2. Dense layer: 512 units, activation='relu'\n",
    "# 3. Dense layer: 256 units, activation='relu', name='my_layer'\n",
    "# 4. Dense layer: 10 units (output layer), no activation (logits)"
   ]
  },
  {
   "cell_type": "code",
   "execution_count": 8,
   "id": "f1c00633",
   "metadata": {},
   "outputs": [],
   "source": [
    "modelDFNN1.compile(\n",
    "    loss=keras.losses.SparseCategoricalCrossentropy(from_logits=False),\n",
    "    optimizer=keras.optimizers.Adam(learning_rate=0.001),\n",
    "    metrics=[\"accuracy\"],\n",
    ")"
   ]
  },
  {
   "cell_type": "code",
   "execution_count": 9,
   "id": "cb47d972",
   "metadata": {},
   "outputs": [
    {
     "name": "stdout",
     "output_type": "stream",
     "text": [
      "Epoch 1/5\n"
     ]
    },
    {
     "name": "stderr",
     "output_type": "stream",
     "text": [
      "WARNING: All log messages before absl::InitializeLog() is called are written to STDERR\n",
      "I0000 00:00:1748561370.395405   42876 service.cc:152] XLA service 0x2aae6e7d08c0 initialized for platform CUDA (this does not guarantee that XLA will be used). Devices:\n",
      "I0000 00:00:1748561370.395441   42876 service.cc:160]   StreamExecutor device (0): Tesla P100-PCIE-16GB, Compute Capability 6.0\n",
      "I0000 00:00:1748561370.422498   42876 cuda_dnn.cc:529] Loaded cuDNN version 90300\n",
      "I0000 00:00:1748561370.548462   42876 device_compiler.h:188] Compiled cluster using XLA!  This line is logged at most once for the lifetime of the process.\n"
     ]
    },
    {
     "name": "stdout",
     "output_type": "stream",
     "text": [
      "1875/1875 - 7s - loss: 2.3443 - accuracy: 0.1784 - 7s/epoch - 4ms/step\n",
      "Epoch 2/5\n",
      "1875/1875 - 4s - loss: 2.3026 - accuracy: 0.1625 - 4s/epoch - 2ms/step\n",
      "Epoch 3/5\n",
      "1875/1875 - 4s - loss: 2.3026 - accuracy: 0.1625 - 4s/epoch - 2ms/step\n",
      "Epoch 4/5\n",
      "1875/1875 - 4s - loss: 2.3026 - accuracy: 0.1625 - 4s/epoch - 2ms/step\n",
      "Epoch 5/5\n",
      "1875/1875 - 4s - loss: 2.3026 - accuracy: 0.1625 - 4s/epoch - 2ms/step\n",
      "313/313 - 1s - loss: 2.3026 - accuracy: 0.1692 - 560ms/epoch - 2ms/step\n"
     ]
    },
    {
     "data": {
      "text/plain": [
       "[2.30259108543396, 0.16920000314712524]"
      ]
     },
     "execution_count": 9,
     "metadata": {},
     "output_type": "execute_result"
    }
   ],
   "source": [
    "modelDFNN1.fit(x_train, y_train, batch_size=32, epochs=5, verbose=2)\n",
    "modelDFNN1.evaluate(x_test, y_test, batch_size=32, verbose=2)"
   ]
  },
  {
   "cell_type": "code",
   "execution_count": null,
   "id": "325b0a75",
   "metadata": {},
   "outputs": [],
   "source": [
    "# ToDo #2: What train and test accuracy do you obtain when running for 5 epochs ?  \n",
    "# Train accuracy: ~16%\n",
    "# Test accuracy: ~17%\n",
    "# Loss: ~2.30 (unchanged)\n",
    "\n"
   ]
  },
  {
   "cell_type": "code",
   "execution_count": 10,
   "id": "0f45161c",
   "metadata": {},
   "outputs": [
    {
     "name": "stdout",
     "output_type": "stream",
     "text": [
      "Epoch 1/20\n",
      "1875/1875 - 4s - loss: 2.3026 - accuracy: 0.1625 - 4s/epoch - 2ms/step\n",
      "Epoch 2/20\n",
      "1875/1875 - 4s - loss: 2.3026 - accuracy: 0.1625 - 4s/epoch - 2ms/step\n",
      "Epoch 3/20\n",
      "1875/1875 - 4s - loss: 2.3026 - accuracy: 0.1625 - 4s/epoch - 2ms/step\n",
      "Epoch 4/20\n",
      "1875/1875 - 4s - loss: 2.3026 - accuracy: 0.1625 - 4s/epoch - 2ms/step\n",
      "Epoch 5/20\n",
      "1875/1875 - 4s - loss: 2.3026 - accuracy: 0.1625 - 4s/epoch - 2ms/step\n",
      "Epoch 6/20\n",
      "1875/1875 - 4s - loss: 2.3026 - accuracy: 0.1625 - 4s/epoch - 2ms/step\n",
      "Epoch 7/20\n",
      "1875/1875 - 4s - loss: 2.3026 - accuracy: 0.1625 - 4s/epoch - 2ms/step\n",
      "Epoch 8/20\n",
      "1875/1875 - 4s - loss: 2.3026 - accuracy: 0.1625 - 4s/epoch - 2ms/step\n",
      "Epoch 9/20\n",
      "1875/1875 - 4s - loss: 2.3026 - accuracy: 0.1625 - 4s/epoch - 2ms/step\n",
      "Epoch 10/20\n",
      "1875/1875 - 3s - loss: 2.3026 - accuracy: 0.1625 - 3s/epoch - 2ms/step\n",
      "Epoch 11/20\n",
      "1875/1875 - 3s - loss: 2.3026 - accuracy: 0.1625 - 3s/epoch - 2ms/step\n",
      "Epoch 12/20\n",
      "1875/1875 - 3s - loss: 2.3026 - accuracy: 0.1625 - 3s/epoch - 2ms/step\n",
      "Epoch 13/20\n",
      "1875/1875 - 3s - loss: 2.3026 - accuracy: 0.1625 - 3s/epoch - 2ms/step\n",
      "Epoch 14/20\n",
      "1875/1875 - 4s - loss: 2.3026 - accuracy: 0.1625 - 4s/epoch - 2ms/step\n",
      "Epoch 15/20\n",
      "1875/1875 - 4s - loss: 2.3026 - accuracy: 0.1625 - 4s/epoch - 2ms/step\n",
      "Epoch 16/20\n",
      "1875/1875 - 4s - loss: 2.3026 - accuracy: 0.1625 - 4s/epoch - 2ms/step\n",
      "Epoch 17/20\n",
      "1875/1875 - 3s - loss: 2.3026 - accuracy: 0.1625 - 3s/epoch - 2ms/step\n",
      "Epoch 18/20\n",
      "1875/1875 - 4s - loss: 2.3026 - accuracy: 0.1625 - 4s/epoch - 2ms/step\n",
      "Epoch 19/20\n",
      "1875/1875 - 4s - loss: 2.3026 - accuracy: 0.1625 - 4s/epoch - 2ms/step\n",
      "Epoch 20/20\n",
      "1875/1875 - 4s - loss: 2.3026 - accuracy: 0.1625 - 4s/epoch - 2ms/step\n",
      "313/313 - 0s - loss: 2.3026 - accuracy: 0.1692 - 426ms/epoch - 1ms/step\n"
     ]
    },
    {
     "data": {
      "text/plain": [
       "[2.30259108543396, 0.16920000314712524]"
      ]
     },
     "execution_count": 10,
     "metadata": {},
     "output_type": "execute_result"
    }
   ],
   "source": [
    "# ToDo #3: Now write code (add code cells to this notebook) to train the model for 20 additional epochs. What train and test accuracy do you obtain? \n",
    "modelDFNN1.fit(x_train, y_train, batch_size=32, epochs=20, verbose=2)\n",
    "modelDFNN1.evaluate(x_test, y_test, batch_size=32, verbose=2)\n",
    "\n"
   ]
  },
  {
   "attachments": {},
   "cell_type": "markdown",
   "id": "28b9d4f5",
   "metadata": {},
   "source": [
    "### Construct DFNN model using Functional API  \n",
    "* slightly more complex interface\n",
    "* additional functionality"
   ]
  },
  {
   "cell_type": "code",
   "execution_count": 11,
   "id": "ef7835d5",
   "metadata": {},
   "outputs": [],
   "source": [
    "# ToDo #4: Now practice using the OO functional API of keras by constructing your own functional model, modelDFNN2.\n",
    "# To simplify the task, create this model so that it uses the same architecture as the sequential model.\n",
    "# For the final Dense layer use activation=\"softmax\"\n"
   ]
  },
  {
   "cell_type": "code",
   "execution_count": 12,
   "id": "4f9ad72f",
   "metadata": {},
   "outputs": [],
   "source": [
    "# Functional API (A bit more flexible)\n",
    "inputs = keras.Input(shape=(784))\n",
    "x = layers.Dense(512, activation=\"relu\", name=\"first_layer\")(inputs)\n",
    "x = layers.Dense(256, activation=\"relu\", name=\"second_layer\")(x)\n",
    "outputs = layers.Dense(10, activation=\"softmax\")(x)\n",
    "modelDFNN2 = keras.Model(inputs=inputs, outputs=outputs)\n",
    "\n",
    "\n",
    "\n"
   ]
  },
  {
   "cell_type": "code",
   "execution_count": 13,
   "id": "0f23ea53",
   "metadata": {},
   "outputs": [],
   "source": [
    "# Now to gain experience invoking methods on objects you have created,\n",
    "# write code to compile(), fit() your new model on the training data. \n",
    "# Then write code to evaluate your new model on the test data. \n"
   ]
  },
  {
   "cell_type": "code",
   "execution_count": 15,
   "id": "7ab84e59",
   "metadata": {},
   "outputs": [],
   "source": [
    "modelDFNN2.compile(\n",
    "    loss=keras.losses.SparseCategoricalCrossentropy(from_logits=False),\n",
    "    optimizer=keras.optimizers.Adam(learning_rate=0.001),\n",
    "    metrics=[\"accuracy\"],\n",
    ")"
   ]
  },
  {
   "cell_type": "code",
   "execution_count": 16,
   "id": "07ae3065",
   "metadata": {},
   "outputs": [
    {
     "name": "stdout",
     "output_type": "stream",
     "text": [
      "Epoch 1/5\n",
      "1875/1875 - 5s - loss: 0.1838 - accuracy: 0.9440 - 5s/epoch - 2ms/step\n",
      "Epoch 2/5\n",
      "1875/1875 - 3s - loss: 0.0792 - accuracy: 0.9752 - 3s/epoch - 2ms/step\n",
      "Epoch 3/5\n",
      "1875/1875 - 3s - loss: 0.0554 - accuracy: 0.9827 - 3s/epoch - 2ms/step\n",
      "Epoch 4/5\n",
      "1875/1875 - 3s - loss: 0.0400 - accuracy: 0.9869 - 3s/epoch - 2ms/step\n",
      "Epoch 5/5\n",
      "1875/1875 - 3s - loss: 0.0325 - accuracy: 0.9894 - 3s/epoch - 2ms/step\n",
      "313/313 - 0s - loss: 0.0706 - accuracy: 0.9814 - 499ms/epoch - 2ms/step\n"
     ]
    },
    {
     "data": {
      "text/plain": [
       "[0.07060451805591583, 0.9814000129699707]"
      ]
     },
     "execution_count": 16,
     "metadata": {},
     "output_type": "execute_result"
    }
   ],
   "source": [
    "modelDFNN2.fit(x_train, y_train, batch_size=32, epochs=5, verbose=2)\n",
    "modelDFNN2.evaluate(x_test, y_test, batch_size=32, verbose=2)"
   ]
  },
  {
   "cell_type": "code",
   "execution_count": null,
   "id": "35993c43",
   "metadata": {},
   "outputs": [],
   "source": [
    "# ToDo #5. Write down what train and test accuracy do you observe? How does it compare to the sequential model?\n",
    "#0.9814000129699707 better"
   ]
  },
  {
   "cell_type": "code",
   "execution_count": 17,
   "id": "7eaafd90",
   "metadata": {},
   "outputs": [],
   "source": [
    "# For fun: explore the architecture space by adding or removing layers from your model, retrain from scratch. \n",
    "# Learn how that impacts model performance. State of the art accuracy is around 99.97% . \n",
    "# You do not need to achieve that (nor is that expected here) but to give you an idea."
   ]
  },
  {
   "cell_type": "code",
   "execution_count": 24,
   "id": "48c31667-3efa-4f47-b0d0-ed35895e5d02",
   "metadata": {},
   "outputs": [
    {
     "name": "stdout",
     "output_type": "stream",
     "text": [
      "Epoch 1/5\n",
      "1875/1875 - 6s - loss: 0.1927 - accuracy: 0.9415 - 6s/epoch - 3ms/step\n",
      "Epoch 2/5\n",
      "1875/1875 - 4s - loss: 0.0931 - accuracy: 0.9717 - 4s/epoch - 2ms/step\n",
      "Epoch 3/5\n",
      "1875/1875 - 4s - loss: 0.0632 - accuracy: 0.9808 - 4s/epoch - 2ms/step\n",
      "Epoch 4/5\n",
      "1875/1875 - 4s - loss: 0.0504 - accuracy: 0.9846 - 4s/epoch - 2ms/step\n",
      "Epoch 5/5\n",
      "1875/1875 - 4s - loss: 0.0406 - accuracy: 0.9875 - 4s/epoch - 2ms/step\n",
      "313/313 - 1s - loss: 0.1072 - accuracy: 0.9739 - 501ms/epoch - 2ms/step\n"
     ]
    },
    {
     "data": {
      "text/plain": [
       "[0.10722236335277557, 0.9739000201225281]"
      ]
     },
     "execution_count": 24,
     "metadata": {},
     "output_type": "execute_result"
    }
   ],
   "source": [
    "inputs = keras.Input(shape=((784,)))\n",
    "x = layers.Dense(1024, activation=\"relu\", name=\"first_layer\")(inputs)\n",
    "x = layers.Dense(512, activation=\"relu\", name=\"sec_layer\")(x)\n",
    "x = layers.Dense(256, activation=\"relu\", name=\"third_layer\")(x)\n",
    "outputs = layers.Dense(10, activation=\"softmax\")(x)\n",
    "modelDFNN3 = keras.Model(inputs=inputs, outputs=outputs)\n",
    "\n",
    "modelDFNN3.compile(\n",
    "    loss=keras.losses.SparseCategoricalCrossentropy(from_logits=False),\n",
    "    optimizer=keras.optimizers.Adam(learning_rate=0.001),\n",
    "    metrics=[\"accuracy\"],\n",
    ")\n",
    "\n",
    "modelDFNN3.fit(x_train, y_train, batch_size=32, epochs=5, verbose=2)\n",
    "modelDFNN3.evaluate(x_test, y_test, batch_size=32, verbose=2)\n"
   ]
  },
  {
   "cell_type": "code",
   "execution_count": null,
   "id": "d9b2654e-cfa8-4ca6-9d64-2cf9b3adc1df",
   "metadata": {},
   "outputs": [],
   "source": []
  }
 ],
 "metadata": {
  "kernelspec": {
   "display_name": "montillo_conda_env",
   "language": "python",
   "name": "montillo_conda_env"
  },
  "language_info": {
   "codemirror_mode": {
    "name": "ipython",
    "version": 3
   },
   "file_extension": ".py",
   "mimetype": "text/x-python",
   "name": "python",
   "nbconvert_exporter": "python",
   "pygments_lexer": "ipython3",
   "version": "3.12.10"
  }
 },
 "nbformat": 4,
 "nbformat_minor": 5
}
